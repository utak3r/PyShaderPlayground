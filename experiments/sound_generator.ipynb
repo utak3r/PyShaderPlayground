{
 "cells": [
  {
   "cell_type": "markdown",
   "metadata": {},
   "source": [
    "Let's collect some sound material for verifying the corectness of the whole sound visualization system :)"
   ]
  },
  {
   "cell_type": "markdown",
   "metadata": {},
   "source": [
    "Generate simple sine wave of a given frequency, sample rate and length:"
   ]
  },
  {
   "cell_type": "code",
   "execution_count": 2,
   "metadata": {},
   "outputs": [
    {
     "name": "stdout",
     "output_type": "stream",
     "text": [
      "m 0.9999999999936564\n",
      "maxint16 32767\n"
     ]
    }
   ],
   "source": [
    "import numpy as np\n",
    "from scipy.io import wavfile\n",
    "\n",
    "sampleRate = 44100\n",
    "frequency = 440\n",
    "length = 10\n",
    "\n",
    "t = np.linspace(0, length, sampleRate * length)\n",
    "y = np.sin(frequency * 2 * np.pi * t)\n",
    "    \n",
    "m = np.max(np.abs(y))\n",
    "maxint16 = np.iinfo(np.int16).max\n",
    "y = maxint16 * y / m\n",
    "y = y.astype(np.int16) \n",
    "\n",
    "wavfile.write(f'sine-freq{frequency}Hz-sr{sampleRate}-len{length}.wav', sampleRate, y)"
   ]
  },
  {
   "cell_type": "markdown",
   "metadata": {},
   "source": [
    "Let's try some sweep:"
   ]
  },
  {
   "cell_type": "code",
   "execution_count": 3,
   "metadata": {},
   "outputs": [],
   "source": [
    "import numpy as np\n",
    "from scipy import signal\n",
    "from scipy.io import wavfile\n",
    "\n",
    "sampleRate = 44100\n",
    "frequency_start = 100\n",
    "frequency_end = 800\n",
    "length = 10\n",
    "\n",
    "t = np.linspace(0, length, sampleRate * length)\n",
    "y = signal.chirp(t, f0=frequency_start, f1=frequency_end, t1=length)\n",
    "\n",
    "m = np.max(np.abs(y))\n",
    "maxint16 = np.iinfo(np.int16).max\n",
    "y = maxint16 * y / m\n",
    "y = y.astype(np.int16) \n",
    "\n",
    "wavfile.write(f'sinesweep-freq{frequency_start}Hz-freq{frequency_end}-sr{sampleRate}-len{length}.wav', sampleRate, y)"
   ]
  }
 ],
 "metadata": {
  "kernelspec": {
   "display_name": "Python312PySide6",
   "language": "python",
   "name": "python3"
  },
  "language_info": {
   "codemirror_mode": {
    "name": "ipython",
    "version": 3
   },
   "file_extension": ".py",
   "mimetype": "text/x-python",
   "name": "python",
   "nbconvert_exporter": "python",
   "pygments_lexer": "ipython3",
   "version": "3.12.6"
  }
 },
 "nbformat": 4,
 "nbformat_minor": 2
}
