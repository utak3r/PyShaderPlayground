{
 "cells": [
  {
   "cell_type": "markdown",
   "metadata": {},
   "source": [
    "Let's collect some sound material for verifying the corectness of the whole sound visualization system :)"
   ]
  },
  {
   "cell_type": "markdown",
   "metadata": {},
   "source": [
    "Generate simple sine wave of a given frequency, sample rate and length:"
   ]
  },
  {
   "cell_type": "code",
   "execution_count": 2,
   "metadata": {},
   "outputs": [],
   "source": [
    "import numpy as np\n",
    "from scipy.io import wavfile\n",
    "\n",
    "sampleRate = 44100\n",
    "frequency = 440\n",
    "length = 10\n",
    "\n",
    "t = np.linspace(0, length, sampleRate * length)\n",
    "y = np.sin(frequency * 2 * np.pi * t)\n",
    "    \n",
    "m = np.max(np.abs(y))\n",
    "maxint16 = np.iinfo(np.int16).max\n",
    "y = maxint16 * y / m\n",
    "y = y.astype(np.int16) \n",
    "\n",
    "wavfile.write(f'sine-freq{frequency}Hz-sr{sampleRate}-len{length}.wav', sampleRate, y)"
   ]
  },
  {
   "cell_type": "markdown",
   "metadata": {},
   "source": [
    "Let's try some sweep:"
   ]
  },
  {
   "cell_type": "code",
   "execution_count": 3,
   "metadata": {},
   "outputs": [],
   "source": [
    "import numpy as np\n",
    "from scipy import signal\n",
    "from scipy.io import wavfile\n",
    "\n",
    "sampleRate = 44100\n",
    "frequency_start = 100\n",
    "frequency_end = 800\n",
    "length = 10\n",
    "\n",
    "t = np.linspace(0, length, sampleRate * length)\n",
    "y = signal.chirp(t, f0=frequency_start, f1=frequency_end, t1=length)\n",
    "\n",
    "m = np.max(np.abs(y))\n",
    "maxint16 = np.iinfo(np.int16).max\n",
    "y = maxint16 * y / m\n",
    "y = y.astype(np.int16) \n",
    "\n",
    "wavfile.write(f'sinesweep-freq{frequency_start}Hz-freq{frequency_end}-sr{sampleRate}-len{length}.wav', sampleRate, y)"
   ]
  },
  {
   "cell_type": "markdown",
   "metadata": {},
   "source": [
    "Let's compose few frequencies:"
   ]
  },
  {
   "cell_type": "code",
   "execution_count": 4,
   "metadata": {},
   "outputs": [],
   "source": [
    "sampleRate = 44100\n",
    "ts = 1.0 / sampleRate\n",
    "frequency_1 = 500\n",
    "frequency_2 = 3000\n",
    "frequency_3 = 6000\n",
    "frequency_4 = 10000\n",
    "length = 10\n",
    "\n",
    "t = np.linspace(0, length, sampleRate * length)\n",
    "y = np.sin(frequency_1 * 2 * np.pi * t)\n",
    "y += np.sin(frequency_2 * 2 * np.pi * t)\n",
    "y += np.sin(frequency_3 * 2 * np.pi * t)\n",
    "y += np.sin(frequency_4 * 2 * np.pi * t)\n",
    "\n",
    "m = np.max(np.abs(y))\n",
    "maxint16 = np.iinfo(np.int16).max\n",
    "y = maxint16 * y / m\n",
    "y = y.astype(np.int16) \n",
    "\n",
    "wavfile.write(f'multi_sine_4freqs-sr{sampleRate}-len{length}.wav', sampleRate, y)"
   ]
  }
 ],
 "metadata": {
  "kernelspec": {
   "display_name": "Python312PySide6",
   "language": "python",
   "name": "python3"
  },
  "language_info": {
   "codemirror_mode": {
    "name": "ipython",
    "version": 3
   },
   "file_extension": ".py",
   "mimetype": "text/x-python",
   "name": "python",
   "nbconvert_exporter": "python",
   "pygments_lexer": "ipython3",
   "version": "3.12.6"
  }
 },
 "nbformat": 4,
 "nbformat_minor": 2
}
